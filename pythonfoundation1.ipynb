{
 "cells": [
  {
   "cell_type": "code",
   "execution_count": null,
   "id": "9b48e742",
   "metadata": {},
   "outputs": [],
   "source": [
    "'''\n",
    "Q1. Write all the conventions being followed while declaring a variable.\n",
    "\n",
    "Ans:a. Use descriptive names in lowercase (snake_case).\n",
    "    b. Avoid single-letter names except for standard iterators.\n",
    "    c. Avoid using built-in names to prevent conflicts.\n",
    "    d. Constants should be in uppercase (UPPER_CASE_SNAKE_CASE).\n",
    "    e. Be consistent in naming conventions.\n",
    "    f.  Use meaningful abbreviations if necessary.\n",
    "Write variable names, comments, and documentation in English.\n",
    "\n",
    "'''"
   ]
  },
  {
   "cell_type": "code",
   "execution_count": 3,
   "id": "6c84e11e",
   "metadata": {},
   "outputs": [
    {
     "ename": "SyntaxError",
     "evalue": "invalid syntax (4169779336.py, line 14)",
     "output_type": "error",
     "traceback": [
      "\u001b[1;36m  Cell \u001b[1;32mIn[3], line 14\u001b[1;36m\u001b[0m\n\u001b[1;33m    if=10\u001b[0m\n\u001b[1;37m      ^\u001b[0m\n\u001b[1;31mSyntaxError\u001b[0m\u001b[1;31m:\u001b[0m invalid syntax\n"
     ]
    }
   ],
   "source": [
    "'''\n",
    "Q2. What will happen if we declare a restricted keyword as a variable?\n",
    "Ans:If we declare a restricted keyword as a variable in Python, \n",
    "    we will encounter a syntax error or an unexpected behavior depending on the context.\n",
    "\n",
    "    Python keywords are reserved words that have special meanings and purposes within the language, \n",
    "    and they cannot be used as identifiers (such as variable names) in Python programs.\n",
    "    Attempting to use a keyword as a variable name will result in a syntax error.\n",
    "    \n",
    "'''\n",
    "'''example (if is a keyword used for conditional statements in Python. If you try to use it as a variable name,\n",
    "youll encounter a syntax error like this:)\n",
    "'''\n",
    "if=10"
   ]
  },
  {
   "cell_type": "code",
   "execution_count": 5,
   "id": "eb83c30d",
   "metadata": {},
   "outputs": [
    {
     "name": "stdout",
     "output_type": "stream",
     "text": [
      "42\n"
     ]
    }
   ],
   "source": [
    "'''\n",
    "Q3. Can we actually declare a string as a variable name?\n",
    "Ans: Yes, in Python, we can use a string as a variable name by enclosing it in quotes.\n",
    "    This feature is known as \"dynamic variable names\" or \"computed variable names.\" \n",
    "    It allows you to dynamically create variables with names determined at runtime.\n",
    "'''\n",
    "#Example:\n",
    "# Define a variable name as a string\n",
    "variable_name = \"my_variable\"\n",
    "\n",
    "# Define a value\n",
    "value = 42\n",
    "\n",
    "globals()[variable_name] = value\n",
    "\n",
    "# Now you can access the dynamically created variable\n",
    "print(my_variable) \n"
   ]
  },
  {
   "cell_type": "code",
   "execution_count": 6,
   "id": "b32dec7a",
   "metadata": {},
   "outputs": [
    {
     "name": "stdout",
     "output_type": "stream",
     "text": [
      "65\n"
     ]
    }
   ],
   "source": [
    "'''\n",
    "Q4. Is it possible for us to declare “_” as a variable? If so, then write an example of it.\n",
    "Ans: Yes, it is possible to declare _ as a variable in Python. It's a valid variable name, \n",
    "     and it's commonly used in certain contexts, \n",
    "     such as to indicate a value that is being ignored or to represent the result of the last \n",
    "     expression in an interactive interpreter session.\n",
    "'''\n",
    "#Example:\n",
    "# Using _ as a variable\n",
    "_ = 65\n",
    "\n",
    "# Now you can use _ to access the value\n",
    "print(_) \n"
   ]
  },
  {
   "cell_type": "code",
   "execution_count": 8,
   "id": "c559fb15",
   "metadata": {
    "scrolled": true
   },
   "outputs": [
    {
     "name": "stdout",
     "output_type": "stream",
     "text": [
      "Value of x: 10\n",
      "Value of x: Hello, Python!\n",
      "Value of x: [1, 2, 3, 4, 5]\n"
     ]
    }
   ],
   "source": [
    "\"Q5. Using an example, explain how the variables in python are dynamic in nature.\"\n",
    "#Ans :\n",
    "\n",
    "# Assign an integer value to a variable\n",
    "x = 10\n",
    "print(\"Value of x:\", x)\n",
    "\n",
    "# Reassign a string value to the same variable\n",
    "x = \"Hello, Python!\"\n",
    "print(\"Value of x:\", x)\n",
    "\n",
    "# Assign a list to the same variable\n",
    "x = [1, 2, 3, 4, 5]\n",
    "print(\"Value of x:\", x)\n",
    "\n",
    "'''\n",
    "EXPLANTION :\n",
    "Each time we assign a new value to the variable x, Python dynamically changes the type and content of x accordingly.\n",
    "This demonstrates the dynamic nature of variables in Python—they can hold values of different types, a\n",
    "nd their types can change dynamically during the execution of the program. \n",
    "This flexibility allows for versatile programming but also requires careful attention to variable usage to avoid \n",
    "unexpected behaviors.\n",
    "'''\n"
   ]
  },
  {
   "cell_type": "code",
   "execution_count": null,
   "id": "6569c3a3",
   "metadata": {},
   "outputs": [],
   "source": []
  }
 ],
 "metadata": {
  "kernelspec": {
   "display_name": "Python 3 (ipykernel)",
   "language": "python",
   "name": "python3"
  },
  "language_info": {
   "codemirror_mode": {
    "name": "ipython",
    "version": 3
   },
   "file_extension": ".py",
   "mimetype": "text/x-python",
   "name": "python",
   "nbconvert_exporter": "python",
   "pygments_lexer": "ipython3",
   "version": "3.11.5"
  }
 },
 "nbformat": 4,
 "nbformat_minor": 5
}
